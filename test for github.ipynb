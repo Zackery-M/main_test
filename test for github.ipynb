{
 "cells": [
  {
   "cell_type": "code",
   "execution_count": 3,
   "id": "d4d0a779",
   "metadata": {},
   "outputs": [],
   "source": [
    "#import example\n",
    "import pandas as pd\n",
    "import numpy as np"
   ]
  },
  {
   "cell_type": "markdown",
   "id": "1b8b1bd8",
   "metadata": {},
   "source": [
    "Markdown example"
   ]
  },
  {
   "cell_type": "code",
   "execution_count": 4,
   "id": "c2a00c44",
   "metadata": {},
   "outputs": [
    {
     "name": "stdout",
     "output_type": "stream",
     "text": [
      "test_output\n"
     ]
    }
   ],
   "source": [
    "print('test_output')"
   ]
  },
  {
   "cell_type": "code",
   "execution_count": null,
   "id": "66523441",
   "metadata": {},
   "outputs": [],
   "source": []
  }
 ],
 "metadata": {
  "kernelspec": {
   "display_name": "Python 3 (ipykernel)",
   "language": "python",
   "name": "python3"
  },
  "language_info": {
   "codemirror_mode": {
    "name": "ipython",
    "version": 3
   },
   "file_extension": ".py",
   "mimetype": "text/x-python",
   "name": "python",
   "nbconvert_exporter": "python",
   "pygments_lexer": "ipython3",
   "version": "3.9.7"
  }
 },
 "nbformat": 4,
 "nbformat_minor": 5
}
